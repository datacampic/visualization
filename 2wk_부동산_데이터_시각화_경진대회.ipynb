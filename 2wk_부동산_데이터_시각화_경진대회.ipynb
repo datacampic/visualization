{
  "nbformat": 4,
  "nbformat_minor": 0,
  "metadata": {
    "colab": {
      "name": "2wk_부동산 데이터 시각화 경진대회 ",
      "provenance": [],
      "collapsed_sections": []
    },
    "kernelspec": {
      "name": "python3",
      "display_name": "Python 3"
    },
    "language_info": {
      "name": "python"
    }
  },
  "cells": [
    {
      "cell_type": "markdown",
      "metadata": {
        "id": "ELuOlciSKCCi"
      },
      "source": [
        "# **Dacon 부동산 데이터 시각화 경진대회**\n",
        "- [데이콘 대회 페이지](https://dacon.io/competitions/official/235724/overview/description)\n",
        "- 주제 : 한국의 부동산 데이터와 사용자가 직접 수집한 외부 데이터를 활용하여 부동산 가격 변화 및 사회와의 관련성을 분석.\n",
        "- 과제 : \n",
        "  - 한국 부동산 움직임이 쉽고 명확하게 보이도록 시각화\n",
        "  - 부동산 데이터로부터 사회 현상을 설명하는 인사이트 발굴\n",
        "  - 외부 데이터를 적극 활용한 인사이트 발굴\n",
        "  - 파이썬 및 R의 시각화 툴을 활용한 데이터 분석 학습"
      ]
    },
    {
      "cell_type": "markdown",
      "metadata": {
        "id": "zDyg_PPLQ-Tz"
      },
      "source": [
        "--------------------------------------------------------"
      ]
    },
    {
      "cell_type": "markdown",
      "metadata": {
        "id": "D3a8s5bqBbYt"
      },
      "source": [
        "### **Pandas to Excel**"
      ]
    },
    {
      "cell_type": "code",
      "metadata": {
        "id": "6EYCn81PBZZS"
      },
      "source": [
        "import pandas as pd\n",
        "import openpyxl\n",
        "import xlwt"
      ],
      "execution_count": 21,
      "outputs": []
    },
    {
      "cell_type": "markdown",
      "metadata": {
        "id": "D0QvY-xWNMqv"
      },
      "source": [
        "##**개별 데이터에 대한 분석**"
      ]
    },
    {
      "cell_type": "code",
      "metadata": {
        "id": "pObqtFeDDG3M"
      },
      "source": [
        "import pandas as pd\n",
        "\n",
        "perm = pd.read_csv(\"/content/건축허가현황.csv\")\n",
        "dmc = pd.read_csv(\"/content/국내건설수주액.csv\")                # 부문별\n",
        "unsold = pd.read_csv(\"/content/미분양주택현황.csv\")               # 지역별\n",
        "apt_pidx = pd.read_csv(\"/content/아파트 실거래가격지수.csv\")            # 지역별\n",
        "hm_pidx = pd.read_csv(\"/content/유형별_주택월세통합가격지수.csv\")       # 지역별, 유형별\n",
        "phc = pd.read_csv(\"/content/주택건설인허가실적.csv\")                 # 지역별\n",
        "hs_pidx = pd.read_csv(\"/content/주택매매가격지수(KB).csv\")          # 주택유형별\n",
        "hy_pidx = pd.read_csv(\"/content/주택전세가격지수(KB).csv\")      # 주택유형별\n",
        "loc_pcr = pd.read_csv(\"/content/지역별_지가변동률.csv\")         # 지역별"
      ],
      "execution_count": 1,
      "outputs": []
    },
    {
      "cell_type": "markdown",
      "metadata": {
        "id": "i9Msi6hTVIAR"
      },
      "source": [
        "### **Data 를 바탕으로 분석해보고 싶은 주제**"
      ]
    },
    {
      "cell_type": "markdown",
      "metadata": {
        "id": "iHXrcQCCVkri"
      },
      "source": [
        "- 지역별로 어떤 주택 형태를 선호하는지\n",
        "  - hm_pidx, \n",
        "- 수도권-비수도권 주택가격 양극화 현상\n",
        "- 지역별 주택가격 변동과 지역 성장 사이의 상관관계\n",
        "- 주요 부동산 정책변화에 따른 부동산 가격 변동, 정책의 효용 파악 "
      ]
    },
    {
      "cell_type": "markdown",
      "metadata": {
        "id": "OlVChmJyQ_nG"
      },
      "source": [
        "--------------------------------------------------------"
      ]
    },
    {
      "cell_type": "markdown",
      "metadata": {
        "id": "dj-26Ah8OPQQ"
      },
      "source": [
        "### **1. 건축 허가 현황**"
      ]
    },
    {
      "cell_type": "code",
      "metadata": {
        "id": "_g-ZVydoNh0Z"
      },
      "source": [
        "perm.head(5)"
      ],
      "execution_count": null,
      "outputs": []
    },
    {
      "cell_type": "code",
      "metadata": {
        "id": "w4i1cP6HOHfY"
      },
      "source": [
        "perm.info()"
      ],
      "execution_count": null,
      "outputs": []
    },
    {
      "cell_type": "markdown",
      "metadata": {
        "id": "ZA8ZCeJKQ51F"
      },
      "source": [
        "--------------------------------------------------------"
      ]
    },
    {
      "cell_type": "markdown",
      "metadata": {
        "id": "PHPyRc0ROe08"
      },
      "source": [
        "### **2. 국내건설 수주액**"
      ]
    },
    {
      "cell_type": "code",
      "metadata": {
        "id": "nqYHqsQkO-Dc"
      },
      "source": [
        "dmc.head(5)"
      ],
      "execution_count": null,
      "outputs": []
    },
    {
      "cell_type": "code",
      "metadata": {
        "id": "3eCU8ZIOPzOR"
      },
      "source": [
        "# dmc.info()      # (542, 31)\n",
        "dmc.isnull().sum()    # 결측값 확인\n",
        "\n",
        "# 국내외국기관[백만원] : 26\n",
        "# 민자[백만원]          228\n",
        "# 조경공사[백만원]        396"
      ],
      "execution_count": null,
      "outputs": []
    },
    {
      "cell_type": "markdown",
      "metadata": {
        "id": "CxgftwlgRBev"
      },
      "source": [
        "--------------------------------------------------------"
      ]
    },
    {
      "cell_type": "markdown",
      "metadata": {
        "id": "0U_qvytjOfC8"
      },
      "source": [
        "### **3. 미분양 주택 현황**"
      ]
    },
    {
      "cell_type": "code",
      "metadata": {
        "id": "mEkIuDGXRm2x"
      },
      "source": [
        "unsold.head(5)"
      ],
      "execution_count": null,
      "outputs": []
    },
    {
      "cell_type": "code",
      "metadata": {
        "id": "w8SOiE8sRsNF"
      },
      "source": [
        "unsold.info()     # (170, 20)\n",
        "unsold.isnull().sum()     # 세종시 : 66/170 NaN"
      ],
      "execution_count": null,
      "outputs": []
    },
    {
      "cell_type": "markdown",
      "metadata": {
        "id": "MHgy8RxMRC3z"
      },
      "source": [
        "--------------------------------------------------------"
      ]
    },
    {
      "cell_type": "markdown",
      "metadata": {
        "id": "NIWwcQ2eOfKl"
      },
      "source": [
        "### **4. 아파트 실거래 가격 지수**"
      ]
    },
    {
      "cell_type": "code",
      "metadata": {
        "id": "v22XqZrLSuED"
      },
      "source": [
        "apt_pidx = pd.read_csv(\"/content/아파트 실거래가격지수.csv\")            # 지역별\n",
        "apt_pidx.head(5)"
      ],
      "execution_count": null,
      "outputs": []
    },
    {
      "cell_type": "code",
      "metadata": {
        "id": "aWAdUBdTqEaw"
      },
      "source": [
        "columns = apt_pidx.iloc[:, 1:].columns\n",
        "for col in columns:\n",
        "    apt_pidx.rename(columns={col:col.strip('\\n').replace('[2017.11=100]', '')}, inplace=True)"
      ],
      "execution_count": 116,
      "outputs": []
    },
    {
      "cell_type": "code",
      "metadata": {
        "colab": {
          "base_uri": "https://localhost:8080/",
          "height": 444
        },
        "id": "tFCbbB8m93QZ",
        "outputId": "b2f6ad90-daed-470c-c101-50aff185d29f"
      },
      "source": [
        "# new_feature_name_df[['column_name', 'dup_cnt']].apply(lambda x : x[0]+'_'+str(x[1]) if x[1] > 0 else x[0], axis=1)\n",
        "\n",
        "apt_pidx['year'] = apt_pidx[['Unnamed: 0']].apply(lambda x : int(x[0][:4]), axis=1)\n",
        "\n",
        "yearly_mean = apt_pidx.groupby('year').mean()\n",
        "total_mean = yearly_mean.mean()\n",
        "\n",
        "total_mean\n",
        "yearly_mean.head(10)"
      ],
      "execution_count": 118,
      "outputs": [
        {
          "output_type": "execute_result",
          "data": {
            "text/html": [
              "<div>\n",
              "<style scoped>\n",
              "    .dataframe tbody tr th:only-of-type {\n",
              "        vertical-align: middle;\n",
              "    }\n",
              "\n",
              "    .dataframe tbody tr th {\n",
              "        vertical-align: top;\n",
              "    }\n",
              "\n",
              "    .dataframe thead th {\n",
              "        text-align: right;\n",
              "    }\n",
              "</style>\n",
              "<table border=\"1\" class=\"dataframe\">\n",
              "  <thead>\n",
              "    <tr style=\"text-align: right;\">\n",
              "      <th></th>\n",
              "      <th>도심권</th>\n",
              "      <th>동북권</th>\n",
              "      <th>동남권</th>\n",
              "      <th>부산</th>\n",
              "      <th>대구</th>\n",
              "      <th>인천</th>\n",
              "      <th>광주</th>\n",
              "      <th>대전</th>\n",
              "      <th>울산</th>\n",
              "      <th>세종</th>\n",
              "      <th>경기</th>\n",
              "      <th>강원</th>\n",
              "      <th>충북</th>\n",
              "      <th>충남</th>\n",
              "      <th>서북권</th>\n",
              "      <th>서남권</th>\n",
              "      <th>전북</th>\n",
              "      <th>전남</th>\n",
              "      <th>경북</th>\n",
              "      <th>경남</th>\n",
              "      <th>제주</th>\n",
              "      <th>광역시</th>\n",
              "      <th>지방광역시</th>\n",
              "      <th>지방도</th>\n",
              "      <th>전국</th>\n",
              "      <th>서울</th>\n",
              "      <th>수도권</th>\n",
              "      <th>지방</th>\n",
              "    </tr>\n",
              "    <tr>\n",
              "      <th>year</th>\n",
              "      <th></th>\n",
              "      <th></th>\n",
              "      <th></th>\n",
              "      <th></th>\n",
              "      <th></th>\n",
              "      <th></th>\n",
              "      <th></th>\n",
              "      <th></th>\n",
              "      <th></th>\n",
              "      <th></th>\n",
              "      <th></th>\n",
              "      <th></th>\n",
              "      <th></th>\n",
              "      <th></th>\n",
              "      <th></th>\n",
              "      <th></th>\n",
              "      <th></th>\n",
              "      <th></th>\n",
              "      <th></th>\n",
              "      <th></th>\n",
              "      <th></th>\n",
              "      <th></th>\n",
              "      <th></th>\n",
              "      <th></th>\n",
              "      <th></th>\n",
              "      <th></th>\n",
              "      <th></th>\n",
              "      <th></th>\n",
              "    </tr>\n",
              "  </thead>\n",
              "  <tbody>\n",
              "    <tr>\n",
              "      <th>2006</th>\n",
              "      <td>63.508333</td>\n",
              "      <td>62.083333</td>\n",
              "      <td>68.383333</td>\n",
              "      <td>48.708333</td>\n",
              "      <td>61.716667</td>\n",
              "      <td>65.908333</td>\n",
              "      <td>53.950000</td>\n",
              "      <td>74.175000</td>\n",
              "      <td>54.100000</td>\n",
              "      <td>70.558333</td>\n",
              "      <td>76.575000</td>\n",
              "      <td>61.491667</td>\n",
              "      <td>67.416667</td>\n",
              "      <td>76.450000</td>\n",
              "      <td>60.950000</td>\n",
              "      <td>67.516667</td>\n",
              "      <td>59.675000</td>\n",
              "      <td>53.433333</td>\n",
              "      <td>68.616667</td>\n",
              "      <td>63.558333</td>\n",
              "      <td>37.841667</td>\n",
              "      <td>NaN</td>\n",
              "      <td>56.108333</td>\n",
              "      <td>63.916667</td>\n",
              "      <td>66.175000</td>\n",
              "      <td>66.133333</td>\n",
              "      <td>71.708333</td>\n",
              "      <td>60.066667</td>\n",
              "    </tr>\n",
              "    <tr>\n",
              "      <th>2007</th>\n",
              "      <td>75.291667</td>\n",
              "      <td>76.800000</td>\n",
              "      <td>74.708333</td>\n",
              "      <td>49.666667</td>\n",
              "      <td>60.091667</td>\n",
              "      <td>82.225000</td>\n",
              "      <td>54.466667</td>\n",
              "      <td>73.058333</td>\n",
              "      <td>66.208333</td>\n",
              "      <td>72.383333</td>\n",
              "      <td>92.391667</td>\n",
              "      <td>61.500000</td>\n",
              "      <td>68.616667</td>\n",
              "      <td>78.208333</td>\n",
              "      <td>72.516667</td>\n",
              "      <td>78.350000</td>\n",
              "      <td>64.116667</td>\n",
              "      <td>59.091667</td>\n",
              "      <td>73.991667</td>\n",
              "      <td>67.275000</td>\n",
              "      <td>39.816667</td>\n",
              "      <td>NaN</td>\n",
              "      <td>58.116667</td>\n",
              "      <td>67.325000</td>\n",
              "      <td>75.191667</td>\n",
              "      <td>76.633333</td>\n",
              "      <td>85.700000</td>\n",
              "      <td>62.775000</td>\n",
              "    </tr>\n",
              "    <tr>\n",
              "      <th>2008</th>\n",
              "      <td>82.141667</td>\n",
              "      <td>87.791667</td>\n",
              "      <td>73.033333</td>\n",
              "      <td>51.925000</td>\n",
              "      <td>58.683333</td>\n",
              "      <td>96.950000</td>\n",
              "      <td>55.208333</td>\n",
              "      <td>73.758333</td>\n",
              "      <td>65.333333</td>\n",
              "      <td>70.691667</td>\n",
              "      <td>95.400000</td>\n",
              "      <td>63.116667</td>\n",
              "      <td>70.433333</td>\n",
              "      <td>81.941667</td>\n",
              "      <td>82.558333</td>\n",
              "      <td>82.091667</td>\n",
              "      <td>69.050000</td>\n",
              "      <td>67.200000</td>\n",
              "      <td>74.016667</td>\n",
              "      <td>70.050000</td>\n",
              "      <td>41.566667</td>\n",
              "      <td>NaN</td>\n",
              "      <td>58.500000</td>\n",
              "      <td>70.366667</td>\n",
              "      <td>78.150000</td>\n",
              "      <td>80.666667</td>\n",
              "      <td>90.775000</td>\n",
              "      <td>64.533333</td>\n",
              "    </tr>\n",
              "    <tr>\n",
              "      <th>2009</th>\n",
              "      <td>82.850000</td>\n",
              "      <td>86.883333</td>\n",
              "      <td>75.950000</td>\n",
              "      <td>54.125000</td>\n",
              "      <td>56.616667</td>\n",
              "      <td>97.441667</td>\n",
              "      <td>54.375000</td>\n",
              "      <td>75.650000</td>\n",
              "      <td>64.916667</td>\n",
              "      <td>67.716667</td>\n",
              "      <td>92.600000</td>\n",
              "      <td>63.550000</td>\n",
              "      <td>70.791667</td>\n",
              "      <td>82.591667</td>\n",
              "      <td>82.541667</td>\n",
              "      <td>83.116667</td>\n",
              "      <td>72.533333</td>\n",
              "      <td>69.550000</td>\n",
              "      <td>73.225000</td>\n",
              "      <td>71.600000</td>\n",
              "      <td>43.608333</td>\n",
              "      <td>NaN</td>\n",
              "      <td>58.866667</td>\n",
              "      <td>71.616667</td>\n",
              "      <td>77.350000</td>\n",
              "      <td>81.450000</td>\n",
              "      <td>89.641667</td>\n",
              "      <td>65.333333</td>\n",
              "    </tr>\n",
              "    <tr>\n",
              "      <th>2010</th>\n",
              "      <td>84.158333</td>\n",
              "      <td>85.708333</td>\n",
              "      <td>77.325000</td>\n",
              "      <td>61.283333</td>\n",
              "      <td>57.675000</td>\n",
              "      <td>96.133333</td>\n",
              "      <td>56.333333</td>\n",
              "      <td>82.850000</td>\n",
              "      <td>68.100000</td>\n",
              "      <td>69.025000</td>\n",
              "      <td>90.808333</td>\n",
              "      <td>66.016667</td>\n",
              "      <td>74.633333</td>\n",
              "      <td>83.983333</td>\n",
              "      <td>84.283333</td>\n",
              "      <td>83.850000</td>\n",
              "      <td>80.025000</td>\n",
              "      <td>75.433333</td>\n",
              "      <td>74.941667</td>\n",
              "      <td>77.883333</td>\n",
              "      <td>49.175000</td>\n",
              "      <td>NaN</td>\n",
              "      <td>63.483333</td>\n",
              "      <td>76.175000</td>\n",
              "      <td>78.741667</td>\n",
              "      <td>82.100000</td>\n",
              "      <td>88.700000</td>\n",
              "      <td>69.883333</td>\n",
              "    </tr>\n",
              "    <tr>\n",
              "      <th>2011</th>\n",
              "      <td>84.075000</td>\n",
              "      <td>86.133333</td>\n",
              "      <td>77.625000</td>\n",
              "      <td>75.083333</td>\n",
              "      <td>62.783333</td>\n",
              "      <td>92.475000</td>\n",
              "      <td>66.666667</td>\n",
              "      <td>95.750000</td>\n",
              "      <td>76.758333</td>\n",
              "      <td>77.875000</td>\n",
              "      <td>91.575000</td>\n",
              "      <td>73.225000</td>\n",
              "      <td>85.316667</td>\n",
              "      <td>89.800000</td>\n",
              "      <td>84.583333</td>\n",
              "      <td>83.741667</td>\n",
              "      <td>93.175000</td>\n",
              "      <td>85.833333</td>\n",
              "      <td>80.416667</td>\n",
              "      <td>94.950000</td>\n",
              "      <td>54.683333</td>\n",
              "      <td>NaN</td>\n",
              "      <td>74.183333</td>\n",
              "      <td>86.900000</td>\n",
              "      <td>84.291667</td>\n",
              "      <td>82.341667</td>\n",
              "      <td>88.616667</td>\n",
              "      <td>80.625000</td>\n",
              "    </tr>\n",
              "    <tr>\n",
              "      <th>2012</th>\n",
              "      <td>79.575000</td>\n",
              "      <td>81.008333</td>\n",
              "      <td>71.216667</td>\n",
              "      <td>77.316667</td>\n",
              "      <td>67.433333</td>\n",
              "      <td>85.908333</td>\n",
              "      <td>71.225000</td>\n",
              "      <td>94.825000</td>\n",
              "      <td>85.550000</td>\n",
              "      <td>82.216667</td>\n",
              "      <td>86.516667</td>\n",
              "      <td>78.200000</td>\n",
              "      <td>93.925000</td>\n",
              "      <td>95.650000</td>\n",
              "      <td>81.041667</td>\n",
              "      <td>78.916667</td>\n",
              "      <td>98.200000</td>\n",
              "      <td>90.333333</td>\n",
              "      <td>87.258333</td>\n",
              "      <td>97.033333</td>\n",
              "      <td>58.616667</td>\n",
              "      <td>NaN</td>\n",
              "      <td>77.583333</td>\n",
              "      <td>91.591667</td>\n",
              "      <td>84.225000</td>\n",
              "      <td>77.166667</td>\n",
              "      <td>83.291667</td>\n",
              "      <td>84.691667</td>\n",
              "    </tr>\n",
              "    <tr>\n",
              "      <th>2013</th>\n",
              "      <td>77.500000</td>\n",
              "      <td>79.508333</td>\n",
              "      <td>70.500000</td>\n",
              "      <td>77.466667</td>\n",
              "      <td>74.083333</td>\n",
              "      <td>83.233333</td>\n",
              "      <td>74.258333</td>\n",
              "      <td>95.408333</td>\n",
              "      <td>87.166667</td>\n",
              "      <td>86.741667</td>\n",
              "      <td>84.641667</td>\n",
              "      <td>78.791667</td>\n",
              "      <td>96.791667</td>\n",
              "      <td>99.358333</td>\n",
              "      <td>80.025000</td>\n",
              "      <td>77.550000</td>\n",
              "      <td>95.308333</td>\n",
              "      <td>89.150000</td>\n",
              "      <td>95.141667</td>\n",
              "      <td>97.466667</td>\n",
              "      <td>58.358333</td>\n",
              "      <td>NaN</td>\n",
              "      <td>79.558333</td>\n",
              "      <td>93.066667</td>\n",
              "      <td>84.491667</td>\n",
              "      <td>75.991667</td>\n",
              "      <td>81.525000</td>\n",
              "      <td>86.375000</td>\n",
              "    </tr>\n",
              "    <tr>\n",
              "      <th>2014</th>\n",
              "      <td>78.425000</td>\n",
              "      <td>81.616667</td>\n",
              "      <td>73.350000</td>\n",
              "      <td>80.125000</td>\n",
              "      <td>83.941667</td>\n",
              "      <td>86.258333</td>\n",
              "      <td>79.816667</td>\n",
              "      <td>96.933333</td>\n",
              "      <td>91.558333</td>\n",
              "      <td>89.383333</td>\n",
              "      <td>87.516667</td>\n",
              "      <td>80.525000</td>\n",
              "      <td>103.450000</td>\n",
              "      <td>103.966667</td>\n",
              "      <td>82.458333</td>\n",
              "      <td>79.566667</td>\n",
              "      <td>95.516667</td>\n",
              "      <td>87.533333</td>\n",
              "      <td>103.316667</td>\n",
              "      <td>101.866667</td>\n",
              "      <td>62.700000</td>\n",
              "      <td>NaN</td>\n",
              "      <td>84.275000</td>\n",
              "      <td>96.825000</td>\n",
              "      <td>88.075000</td>\n",
              "      <td>78.341667</td>\n",
              "      <td>84.275000</td>\n",
              "      <td>90.608333</td>\n",
              "    </tr>\n",
              "    <tr>\n",
              "      <th>2015</th>\n",
              "      <td>84.750000</td>\n",
              "      <td>86.791667</td>\n",
              "      <td>79.008333</td>\n",
              "      <td>85.733333</td>\n",
              "      <td>98.683333</td>\n",
              "      <td>92.241667</td>\n",
              "      <td>92.308333</td>\n",
              "      <td>97.500000</td>\n",
              "      <td>99.708333</td>\n",
              "      <td>87.433333</td>\n",
              "      <td>93.150000</td>\n",
              "      <td>85.158333</td>\n",
              "      <td>106.558333</td>\n",
              "      <td>106.591667</td>\n",
              "      <td>86.841667</td>\n",
              "      <td>84.966667</td>\n",
              "      <td>97.425000</td>\n",
              "      <td>89.233333</td>\n",
              "      <td>111.058333</td>\n",
              "      <td>107.100000</td>\n",
              "      <td>77.775000</td>\n",
              "      <td>NaN</td>\n",
              "      <td>92.808333</td>\n",
              "      <td>101.233333</td>\n",
              "      <td>94.041667</td>\n",
              "      <td>83.825000</td>\n",
              "      <td>89.883333</td>\n",
              "      <td>97.058333</td>\n",
              "    </tr>\n",
              "  </tbody>\n",
              "</table>\n",
              "</div>"
            ],
            "text/plain": [
              "            도심권        동북권        동남권  ...         서울        수도권         지방\n",
              "year                                   ...                                 \n",
              "2006  63.508333  62.083333  68.383333  ...  66.133333  71.708333  60.066667\n",
              "2007  75.291667  76.800000  74.708333  ...  76.633333  85.700000  62.775000\n",
              "2008  82.141667  87.791667  73.033333  ...  80.666667  90.775000  64.533333\n",
              "2009  82.850000  86.883333  75.950000  ...  81.450000  89.641667  65.333333\n",
              "2010  84.158333  85.708333  77.325000  ...  82.100000  88.700000  69.883333\n",
              "2011  84.075000  86.133333  77.625000  ...  82.341667  88.616667  80.625000\n",
              "2012  79.575000  81.008333  71.216667  ...  77.166667  83.291667  84.691667\n",
              "2013  77.500000  79.508333  70.500000  ...  75.991667  81.525000  86.375000\n",
              "2014  78.425000  81.616667  73.350000  ...  78.341667  84.275000  90.608333\n",
              "2015  84.750000  86.791667  79.008333  ...  83.825000  89.883333  97.058333\n",
              "\n",
              "[10 rows x 28 columns]"
            ]
          },
          "metadata": {},
          "execution_count": 118
        }
      ]
    },
    {
      "cell_type": "code",
      "metadata": {
        "id": "a17BE4rvTOCK"
      },
      "source": [
        "apt_pidx.info()     # (181, 29)\n",
        "apt_pidx.isnull().sum()       # 광역시 :      181"
      ],
      "execution_count": null,
      "outputs": []
    },
    {
      "cell_type": "markdown",
      "metadata": {
        "id": "IukV2ElcrHFH"
      },
      "source": [
        "<img src=\"https://user-images.githubusercontent.com/92680829/140244851-f1a99727-b952-4897-b200-8192cdb5c494.png\" width=\"5000px\" />\n",
        "\n",
        "[Tableau 통합문서](https://public.tableau.com/app/profile/.56883401/viz/vs_16359914721430/3?publish=yes)"
      ]
    },
    {
      "cell_type": "markdown",
      "metadata": {
        "id": "U7k_xfTORDKq"
      },
      "source": [
        "--------------------------------------------------------"
      ]
    },
    {
      "cell_type": "markdown",
      "metadata": {
        "id": "59UEhJIGOfPN"
      },
      "source": [
        "### **5. 유형별_주택월세통합가격지수**"
      ]
    },
    {
      "cell_type": "code",
      "metadata": {
        "id": "yf4uEP-NUPzg"
      },
      "source": [
        "hm_pidx.head(5)"
      ],
      "execution_count": null,
      "outputs": []
    },
    {
      "cell_type": "code",
      "metadata": {
        "id": "6anIm_37UP-L"
      },
      "source": [
        "# hm_pidx.info()          # (70, 97)\n",
        "hm_pidx.isnull().sum().sum()          # 종합-울산 이거왜..?"
      ],
      "execution_count": null,
      "outputs": []
    },
    {
      "cell_type": "markdown",
      "metadata": {
        "id": "uGJinhGURDeY"
      },
      "source": [
        "--------------------------------------------------------"
      ]
    },
    {
      "cell_type": "markdown",
      "metadata": {
        "id": "AMOweObtOfTc"
      },
      "source": [
        "### **6. 주택건설 인허가 실적**"
      ]
    },
    {
      "cell_type": "code",
      "metadata": {
        "id": "DNoStC79ZSkY"
      },
      "source": [
        "phc.head(5)"
      ],
      "execution_count": null,
      "outputs": []
    },
    {
      "cell_type": "code",
      "metadata": {
        "id": "hlrSl58TZSka"
      },
      "source": [
        "phc.info()          # (170, 22)\n",
        "phc.isnull().sum()      # 세종[호]    :  67"
      ],
      "execution_count": null,
      "outputs": []
    },
    {
      "cell_type": "markdown",
      "metadata": {
        "id": "QC1Ql7v_RDrL"
      },
      "source": [
        "--------------------------------------------------------"
      ]
    },
    {
      "cell_type": "markdown",
      "metadata": {
        "id": "4ef3VqxKOfXc"
      },
      "source": [
        "### **7. 주택 매매가격지수**"
      ]
    },
    {
      "cell_type": "code",
      "metadata": {
        "id": "g_chubirLlJ_"
      },
      "source": [
        "import numpy as np\n",
        "import pandas as pd \n",
        "import openpyxl\n",
        "import xlwt"
      ],
      "execution_count": 68,
      "outputs": []
    },
    {
      "cell_type": "code",
      "metadata": {
        "colab": {
          "base_uri": "https://localhost:8080/",
          "height": 204
        },
        "id": "wliOhZTrZTW-",
        "outputId": "17ab8682-1892-4c2d-97df-1c8c4aa11ef0"
      },
      "source": [
        "hs_pidx = pd.read_csv(\"/content/주택매매가격지수(KB).csv\")          # 주택유형별\n",
        "hs_pidx.head(5)"
      ],
      "execution_count": 43,
      "outputs": [
        {
          "output_type": "execute_result",
          "data": {
            "text/html": [
              "<div>\n",
              "<style scoped>\n",
              "    .dataframe tbody tr th:only-of-type {\n",
              "        vertical-align: middle;\n",
              "    }\n",
              "\n",
              "    .dataframe tbody tr th {\n",
              "        vertical-align: top;\n",
              "    }\n",
              "\n",
              "    .dataframe thead th {\n",
              "        text-align: right;\n",
              "    }\n",
              "</style>\n",
              "<table border=\"1\" class=\"dataframe\">\n",
              "  <thead>\n",
              "    <tr style=\"text-align: right;\">\n",
              "      <th></th>\n",
              "      <th>Unnamed: 0</th>\n",
              "      <th>총지수[2019.01=100]</th>\n",
              "      <th>단독주택[2019.01=100]</th>\n",
              "      <th>연립주택[2019.01=100]</th>\n",
              "      <th>아파트[2019.01=100]</th>\n",
              "      <th>아파트(서울)[2019.01=100]</th>\n",
              "      <th>총지수(서울)[2019.01=100]</th>\n",
              "    </tr>\n",
              "  </thead>\n",
              "  <tbody>\n",
              "    <tr>\n",
              "      <th>0</th>\n",
              "      <td>1986-01-01</td>\n",
              "      <td>34.656</td>\n",
              "      <td>61.347</td>\n",
              "      <td>43.053</td>\n",
              "      <td>20.973</td>\n",
              "      <td>17.153</td>\n",
              "      <td>30.044</td>\n",
              "    </tr>\n",
              "    <tr>\n",
              "      <th>1</th>\n",
              "      <td>1986-02-01</td>\n",
              "      <td>34.656</td>\n",
              "      <td>61.347</td>\n",
              "      <td>42.925</td>\n",
              "      <td>20.973</td>\n",
              "      <td>17.183</td>\n",
              "      <td>30.044</td>\n",
              "    </tr>\n",
              "    <tr>\n",
              "      <th>2</th>\n",
              "      <td>1986-03-01</td>\n",
              "      <td>34.708</td>\n",
              "      <td>61.513</td>\n",
              "      <td>42.733</td>\n",
              "      <td>20.935</td>\n",
              "      <td>17.153</td>\n",
              "      <td>30.002</td>\n",
              "    </tr>\n",
              "    <tr>\n",
              "      <th>3</th>\n",
              "      <td>1986-04-01</td>\n",
              "      <td>34.449</td>\n",
              "      <td>61.097</td>\n",
              "      <td>42.733</td>\n",
              "      <td>20.819</td>\n",
              "      <td>17.034</td>\n",
              "      <td>29.837</td>\n",
              "    </tr>\n",
              "    <tr>\n",
              "      <th>4</th>\n",
              "      <td>1986-05-01</td>\n",
              "      <td>34.293</td>\n",
              "      <td>60.848</td>\n",
              "      <td>41.837</td>\n",
              "      <td>20.664</td>\n",
              "      <td>16.945</td>\n",
              "      <td>29.588</td>\n",
              "    </tr>\n",
              "  </tbody>\n",
              "</table>\n",
              "</div>"
            ],
            "text/plain": [
              "   Unnamed: 0  총지수[2019.01=100]  ...  아파트(서울)[2019.01=100]  총지수(서울)[2019.01=100]\n",
              "0  1986-01-01            34.656  ...                17.153                30.044\n",
              "1  1986-02-01            34.656  ...                17.183                30.044\n",
              "2  1986-03-01            34.708  ...                17.153                30.002\n",
              "3  1986-04-01            34.449  ...                17.034                29.837\n",
              "4  1986-05-01            34.293  ...                16.945                29.588\n",
              "\n",
              "[5 rows x 7 columns]"
            ]
          },
          "metadata": {},
          "execution_count": 43
        }
      ]
    },
    {
      "cell_type": "code",
      "metadata": {
        "id": "FQM0C3KWZTW_"
      },
      "source": [
        "hs_pidx.info()          # (429, 7)\n",
        "hs_pidx.isnull().sum()         # Clear"
      ],
      "execution_count": null,
      "outputs": []
    },
    {
      "cell_type": "code",
      "metadata": {
        "id": "y0O7SJdmCR9T"
      },
      "source": [
        "hs_pidx['year'] = hs_pidx[['Unnamed: 0']].apply(lambda x : int(x[0][:4]), axis=1)\n",
        "\n",
        "yearly_mean = hs_pidx.groupby('year').mean()\n",
        "# total_mean = yearly_mean.mean()\n",
        "\n",
        "columns = hs_pidx.iloc[:, 1:].columns\n",
        "for col in columns:\n",
        "    yearly_mean.rename(columns={col:col.replace('[2019.01=100]', '')}, inplace=True)\n",
        "\n",
        "yearly_mean_reset = yearly_mean.reset_index()\n",
        "yearly_mean_reset['year'] = yearly_mean_reset[['year']].apply(lambda x : int(x[0]), axis=1)"
      ],
      "execution_count": 74,
      "outputs": []
    },
    {
      "cell_type": "code",
      "metadata": {
        "id": "lNs9d7ERJh6T"
      },
      "source": [
        "yearly_mean.drop(['단독주택', '연립주택'], axis=1, inplace=True )\n",
        "yearly_mean\n",
        "\n",
        "column_name = yearly_mean.iloc[:, 1:].columns"
      ],
      "execution_count": 75,
      "outputs": []
    },
    {
      "cell_type": "code",
      "metadata": {
        "id": "y2TdTeb5JFSh"
      },
      "source": [
        "yearly_mean_tr = yearly_mean.transpose()\n",
        "yearly_mean_tr\n",
        "for col in yearly_mean_tr.columns:\n",
        "    yearly_mean_tr.rename(columns={col:str(int(col))}, inplace=True)\n",
        "\n",
        "yearly_mean_tr.drop(['2021'], axis=1, inplace=True)"
      ],
      "execution_count": 77,
      "outputs": []
    },
    {
      "cell_type": "code",
      "metadata": {
        "colab": {
          "base_uri": "https://localhost:8080/",
          "height": 389
        },
        "id": "WEiK14gKIQHQ",
        "outputId": "d327550f-62fd-4918-d475-883b10f93386"
      },
      "source": [
        "first_last = yearly_mean_tr[['1986', '2020']]\n",
        "first_last['증가폭'] = first_last[['1986', '2020']].apply(lambda x : np.round(x[1] - x[0], 2), axis=1)\n",
        "first_last['증가율(%)'] = first_last[['1986', '2020']].apply(lambda x : np.round(x[1] - x[0]/x[0], 2), axis=1)\n",
        "first_last1 = first_last.iloc[:, 2:]\n",
        "first_last"
      ],
      "execution_count": 93,
      "outputs": [
        {
          "output_type": "stream",
          "name": "stderr",
          "text": [
            "/usr/local/lib/python3.7/dist-packages/ipykernel_launcher.py:2: SettingWithCopyWarning: \n",
            "A value is trying to be set on a copy of a slice from a DataFrame.\n",
            "Try using .loc[row_indexer,col_indexer] = value instead\n",
            "\n",
            "See the caveats in the documentation: https://pandas.pydata.org/pandas-docs/stable/user_guide/indexing.html#returning-a-view-versus-a-copy\n",
            "  \n",
            "/usr/local/lib/python3.7/dist-packages/ipykernel_launcher.py:3: SettingWithCopyWarning: \n",
            "A value is trying to be set on a copy of a slice from a DataFrame.\n",
            "Try using .loc[row_indexer,col_indexer] = value instead\n",
            "\n",
            "See the caveats in the documentation: https://pandas.pydata.org/pandas-docs/stable/user_guide/indexing.html#returning-a-view-versus-a-copy\n",
            "  This is separate from the ipykernel package so we can avoid doing imports until\n"
          ]
        },
        {
          "output_type": "execute_result",
          "data": {
            "text/html": [
              "<div>\n",
              "<style scoped>\n",
              "    .dataframe tbody tr th:only-of-type {\n",
              "        vertical-align: middle;\n",
              "    }\n",
              "\n",
              "    .dataframe tbody tr th {\n",
              "        vertical-align: top;\n",
              "    }\n",
              "\n",
              "    .dataframe thead th {\n",
              "        text-align: right;\n",
              "    }\n",
              "</style>\n",
              "<table border=\"1\" class=\"dataframe\">\n",
              "  <thead>\n",
              "    <tr style=\"text-align: right;\">\n",
              "      <th>year</th>\n",
              "      <th>1986</th>\n",
              "      <th>2020</th>\n",
              "      <th>증가폭</th>\n",
              "      <th>증가율(%)</th>\n",
              "    </tr>\n",
              "  </thead>\n",
              "  <tbody>\n",
              "    <tr>\n",
              "      <th>총지수</th>\n",
              "      <td>34.215250</td>\n",
              "      <td>103.552500</td>\n",
              "      <td>69.34</td>\n",
              "      <td>102.55</td>\n",
              "    </tr>\n",
              "    <tr>\n",
              "      <th>아파트</th>\n",
              "      <td>20.577167</td>\n",
              "      <td>103.574750</td>\n",
              "      <td>83.00</td>\n",
              "      <td>102.57</td>\n",
              "    </tr>\n",
              "    <tr>\n",
              "      <th>아파트(서울)</th>\n",
              "      <td>16.821000</td>\n",
              "      <td>108.577167</td>\n",
              "      <td>91.76</td>\n",
              "      <td>107.58</td>\n",
              "    </tr>\n",
              "    <tr>\n",
              "      <th>총지수(서울)</th>\n",
              "      <td>29.467250</td>\n",
              "      <td>106.863333</td>\n",
              "      <td>77.40</td>\n",
              "      <td>105.86</td>\n",
              "    </tr>\n",
              "  </tbody>\n",
              "</table>\n",
              "</div>"
            ],
            "text/plain": [
              "year          1986        2020    증가폭  증가율(%)\n",
              "총지수      34.215250  103.552500  69.34  102.55\n",
              "아파트      20.577167  103.574750  83.00  102.57\n",
              "아파트(서울)  16.821000  108.577167  91.76  107.58\n",
              "총지수(서울)  29.467250  106.863333  77.40  105.86"
            ]
          },
          "metadata": {},
          "execution_count": 93
        }
      ]
    },
    {
      "cell_type": "code",
      "metadata": {
        "id": "_WhF8-tFMruW"
      },
      "source": [
        "with pd.ExcelWriter('increase.xlsx') as writer:\n",
        "  first_last1.to_excel(writer, sheet_name='increase')\n",
        "with pd.ExcelWriter('increase1.xlsx') as writer:\n",
        "  first_last.to_excel(writer, sheet_name='increase1')"
      ],
      "execution_count": 96,
      "outputs": []
    },
    {
      "cell_type": "markdown",
      "metadata": {
        "id": "_7u5mMDytMsw"
      },
      "source": [
        "<img src=\"https://user-images.githubusercontent.com/92680829/140245671-42903a48-5765-400b-b238-f2bd97f9905e.png\" width=\"5000px\" />\n",
        "\n",
        "[Tableau 통합문서](https://public.tableau.com/app/profile/.56883401/viz/_16358800914820/sheet5)"
      ]
    },
    {
      "cell_type": "markdown",
      "metadata": {
        "id": "fOGRLiXBtuWA"
      },
      "source": [
        "<img src=\"https://user-images.githubusercontent.com/92680829/140245878-344557ba-80ab-4bae-8939-50d944181732.png\" width=\"5000px\" />\n",
        "\n",
        "[Tableau 통합 문서](https://public.tableau.com/app/profile/.56883401/viz/vs_16359914721430/3)"
      ]
    },
    {
      "cell_type": "markdown",
      "metadata": {
        "id": "fmD7PTmiZU8D"
      },
      "source": [
        "--------------------------------------------------------"
      ]
    },
    {
      "cell_type": "markdown",
      "metadata": {
        "id": "vCQTGe_BOfc5"
      },
      "source": [
        "### **8. 주택 전세가격지수**"
      ]
    },
    {
      "cell_type": "code",
      "metadata": {
        "id": "dVdR-xHdZT1p"
      },
      "source": [
        "hy_pidx.head(5)"
      ],
      "execution_count": null,
      "outputs": []
    },
    {
      "cell_type": "code",
      "metadata": {
        "id": "YUfqzsXPZT1q"
      },
      "source": [
        "hy_pidx.info()          # (423, 7)\n",
        "hy_pidx.isnull().sum()          # Clear"
      ],
      "execution_count": null,
      "outputs": []
    },
    {
      "cell_type": "markdown",
      "metadata": {
        "id": "psB5-QHIZVeb"
      },
      "source": [
        "--------------------------------------------------------"
      ]
    },
    {
      "cell_type": "markdown",
      "metadata": {
        "id": "XsFbFKkPebfj"
      },
      "source": [
        "### **9. 지역별_지가변동률**"
      ]
    },
    {
      "cell_type": "code",
      "metadata": {
        "id": "yuWYyNH2ebf3"
      },
      "source": [
        "loc_pcr.head(5)"
      ],
      "execution_count": null,
      "outputs": []
    },
    {
      "cell_type": "code",
      "metadata": {
        "id": "18I8G29Bebf5"
      },
      "source": [
        "loc_pcr.info()          # (194, 19)\n",
        "loc_pcr.isnull().sum()          # 세종[%]  : 90"
      ],
      "execution_count": null,
      "outputs": []
    },
    {
      "cell_type": "markdown",
      "metadata": {
        "id": "b56hT_FbeDwC"
      },
      "source": [
        "--------------------------------------------------------"
      ]
    }
  ]
}